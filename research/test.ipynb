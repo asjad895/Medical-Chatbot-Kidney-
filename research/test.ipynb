{
 "cells": [
  {
   "cell_type": "code",
   "execution_count": 15,
   "metadata": {},
   "outputs": [],
   "source": [
    "from langchain import PromptTemplate\n",
    "from langchain.chains import RetrievalQA\n",
    "from langchain.embeddings import HuggingFaceEmbeddings\n",
    "from langchain.vectorstores import Pinecone\n",
    "import pinecone\n",
    "from langchain.document_loaders import PyPDFLoader, DirectoryLoader\n",
    "from langchain.text_splitter import RecursiveCharacterTextSplitter\n",
    "from langchain.prompts import PromptTemplate\n",
    "from langchain.llms import CTransformers\n",
    "from dotenv import load_dotenv\n",
    "# //mchatbot env"
   ]
  },
  {
   "cell_type": "code",
   "execution_count": 16,
   "metadata": {},
   "outputs": [],
   "source": [
    "import os\n",
    "load_dotenv()\n",
    "PINECONE_API_KEY = os.environ.get('PINECONE_API_KEY')\n",
    "PINECONE_API_ENV = os.environ.get('PINECONE_API_ENV')"
   ]
  },
  {
   "cell_type": "code",
   "execution_count": 17,
   "metadata": {},
   "outputs": [],
   "source": [
    "#Extract data from the PDF\n",
    "def load_pdf(data):\n",
    "    loader = DirectoryLoader(data,\n",
    "                    glob=\"*.pdf\",\n",
    "                    loader_cls=PyPDFLoader)\n",
    "    \n",
    "    documents = loader.load()\n",
    "\n",
    "    return documents"
   ]
  },
  {
   "cell_type": "code",
   "execution_count": 18,
   "metadata": {},
   "outputs": [],
   "source": [
    "extracted_data = load_pdf(\"../data/\")"
   ]
  },
  {
   "cell_type": "code",
   "execution_count": 20,
   "metadata": {},
   "outputs": [
    {
     "data": {
      "text/plain": [
       "266"
      ]
     },
     "execution_count": 20,
     "metadata": {},
     "output_type": "execute_result"
    }
   ],
   "source": [
    "len(extracted_data)"
   ]
  },
  {
   "cell_type": "code",
   "execution_count": 21,
   "metadata": {},
   "outputs": [
    {
     "data": {
      "text/plain": [
       "Document(page_content='CCSAP 2017  Book 2   •  Renal/Pulmonary Critical Care 7 Acute Kidney InjuryAcute Kidney Injury\\nBy Linda Awdishu, Pharm.D., MAS; and Sheryl E. Wu, Pharm.D., BCPS\\nINTRODUCTION\\nAcute kidney injury (AKI) results in the abrupt loss of kidney function, \\nleading to the retention of waste products, electrolyte disturbances, \\nand volume status changes. The term AKI has replaced acute renal \\nfailure  because smaller changes in kidney function without overt fail -\\nure can result in significant clinical consequences and increased \\nmorbidity and mortality.\\nChanges in kidney function are detected by a change in biomark -\\ners, the most common biomarker being serum creatinine (SCr). \\nSerum creatinine is an imperfect biomarker for recognizing AKI, given \\nthat an increase in SCr often lags (48–72 hours) behind the onset of \\ninjury. In addition, SCr is not in a steady-state condition in critically \\nill patients, leading to inaccurate estimates of glomerular filtration \\nrates (eGFRs). Using an imperfect biomarker for AKI definition, rec -\\nognition, and management may affect patient outcomes. Despite \\nimprovements in renal replacement therapy (RRT), AKI outcomes are \\nnot optimal (Mehta 2003). This chapter reviews the identification and \\nmanagement of AKI in critically ill patients.\\nDEFINING AKI\\nPrior studies of AKI used different quantitative definitions, leading to \\nchallenges for clinicians in interpreting and applying study findings. \\nSome definitions used were complex and difficult to apply because \\nthe increase in SCr was different depending on the presence and \\nseverity of underlying chronic kidney disease (CKD). Several consen -\\nsus definitions of AKI have been developed over time to improve the \\nrecognition and reporting of AKI.\\nRIFLE Classification\\nIn 2004, the Acute Dialysis Quality Initiative published the risk, injury, \\nfailure, loss, end-stage (RIFLE) criteria. The RIFLE classification is Reviewed by Phillip L. Mohorn, Pharm.D., BCPS, BCCCP; and Wan-Ting Huang, Pharm.D., BCCCP\\n1. Distinguish among the different types of acute kidney injury (AKI) and identify drug-induced causes.\\n2. Apply knowledge of organ cross-talk to predict changes in drug pharmacokinetics.\\n3. Demonstrate knowledge of protein, caloric, electrolyte, and trace element requirements in AKI with and without renal \\nreplacement therapy (RRT).\\n4. Compare and contrast the use of the various RRTs.\\n5. Estimate renal function, and formulate an appropriate drug-dose regimen for a patient with AKI not receiving RRT.LEARNING OBJECTIVES\\nABBREVIATIONS IN THIS CHAPTER\\nAIN Acute interstitial nephritis\\nAKI Acute kidney injury\\nAKIN Acute Kidney Injury Network\\nATN Acute tubular necrosis\\nCKD  Chronic kidney disease\\nCRRT  Continuous renal replacement \\ntherapy\\neGFR Estimated glomerular filtration \\nrate\\nIHD Intermittent hemodialysis\\nKDIGO  Kidney Disease: Improving Global \\nOutcomes\\nKIM-1  Kidney injury molecule-1\\nNGAL  Neutrophil gelatinase-associated \\nlipocalin\\nRIFLE Risk, injury, failure, loss, end-stage\\nRRT  Renal replacement therapy\\nTable of other common abbreviations.', metadata={'source': '..\\\\data\\\\aki.pdf', 'page': 0})"
      ]
     },
     "execution_count": 21,
     "metadata": {},
     "output_type": "execute_result"
    }
   ],
   "source": [
    "extracted_data[0]"
   ]
  },
  {
   "cell_type": "code",
   "execution_count": 5,
   "metadata": {},
   "outputs": [
    {
     "data": {
      "text/plain": [
       "(Document(page_content='CCSAP 2017  Book 2   •  Renal/Pulmonary Critical Care 7 Acute Kidney InjuryAcute Kidney Injury\\nBy Linda Awdishu, Pharm.D., MAS; and Sheryl E. Wu, Pharm.D., BCPS\\nINTRODUCTION\\nAcute kidney injury (AKI) results in the abrupt loss of kidney function, \\nleading to the retention of waste products, electrolyte disturbances, \\nand volume status changes. The term AKI has replaced acute renal \\nfailure  because smaller changes in kidney function without overt fail -\\nure can result in significant clinical consequences and increased \\nmorbidity and mortality.\\nChanges in kidney function are detected by a change in biomark -\\ners, the most common biomarker being serum creatinine (SCr). \\nSerum creatinine is an imperfect biomarker for recognizing AKI, given \\nthat an increase in SCr often lags (48–72 hours) behind the onset of \\ninjury. In addition, SCr is not in a steady-state condition in critically \\nill patients, leading to inaccurate estimates of glomerular filtration \\nrates (eGFRs). Using an imperfect biomarker for AKI definition, rec -\\nognition, and management may affect patient outcomes. Despite \\nimprovements in renal replacement therapy (RRT), AKI outcomes are \\nnot optimal (Mehta 2003). This chapter reviews the identification and \\nmanagement of AKI in critically ill patients.\\nDEFINING AKI\\nPrior studies of AKI used different quantitative definitions, leading to \\nchallenges for clinicians in interpreting and applying study findings. \\nSome definitions used were complex and difficult to apply because \\nthe increase in SCr was different depending on the presence and \\nseverity of underlying chronic kidney disease (CKD). Several consen -\\nsus definitions of AKI have been developed over time to improve the \\nrecognition and reporting of AKI.\\nRIFLE Classification\\nIn 2004, the Acute Dialysis Quality Initiative published the risk, injury, \\nfailure, loss, end-stage (RIFLE) criteria. The RIFLE classification is Reviewed by Phillip L. Mohorn, Pharm.D., BCPS, BCCCP; and Wan-Ting Huang, Pharm.D., BCCCP\\n1. Distinguish among the different types of acute kidney injury (AKI) and identify drug-induced causes.\\n2. Apply knowledge of organ cross-talk to predict changes in drug pharmacokinetics.\\n3. Demonstrate knowledge of protein, caloric, electrolyte, and trace element requirements in AKI with and without renal \\nreplacement therapy (RRT).\\n4. Compare and contrast the use of the various RRTs.\\n5. Estimate renal function, and formulate an appropriate drug-dose regimen for a patient with AKI not receiving RRT.LEARNING OBJECTIVES\\nABBREVIATIONS IN THIS CHAPTER\\nAIN Acute interstitial nephritis\\nAKI Acute kidney injury\\nAKIN Acute Kidney Injury Network\\nATN Acute tubular necrosis\\nCKD  Chronic kidney disease\\nCRRT  Continuous renal replacement \\ntherapy\\neGFR Estimated glomerular filtration \\nrate\\nIHD Intermittent hemodialysis\\nKDIGO  Kidney Disease: Improving Global \\nOutcomes\\nKIM-1  Kidney injury molecule-1\\nNGAL  Neutrophil gelatinase-associated \\nlipocalin\\nRIFLE Risk, injury, failure, loss, end-stage\\nRRT  Renal replacement therapy\\nTable of other common abbreviations.', metadata={'source': '..\\\\data\\\\aki.pdf', 'page': 0}),\n",
       " Document(page_content='CCSAP 2017  Book 2   •  Renal/Pulmonary Critical Care 8 Acute Kidney Injurybased on changes in two markers: SCr and urinary output. \\nThe classification includes three graded stages of AKI – risk, \\ninjury, and failure – with two outcomes: loss of kidney func -\\ntion greater than 4 weeks and end-stage renal disease greater \\nthan 3 months (Lopes 2013). The RIFLE-defined period for \\nchange in SCr or urinary output was 7 days.\\nAfter implementing the RIFLE classification, clinicians and \\ninvestigators noted two problematic issues. First, AKI outcomes \\nwere worse in patients who developed AKI by SCr than by uri -\\nnary output criteria. Second, the defined change in SCr value did \\nnot equate to the defined change in GFR (i.e., a 50% increase in SCr corresponds with a 33% decrease in GFR). Subsequently, \\nGFR was not included in the Acute Kidney Injury Network \\n(AKIN) or Kidney Disease: Improving Global Outcomes (KDIGO) \\ndefinitions.\\nAKIN Criteria\\nIn 2007, AKIN updated and modified the RIFLE criteria to \\ndefine AKI and the staging system. The definition of AKI is \\nan abrupt increase in SCr of 0.3 mg/dL over baseline within \\n48 hours, a 50% or greater increase in SCr within 7 days, or \\nurinary output of less than 0.5 mL/kg/hour for more than 6 \\nhours. Studies had shown significantly increased mortal -\\nity with small elevations in SCr (0.3–0.5 mg/dL) over a short \\nperiod (24–48 hours). The AKIN staging system corresponds \\nwith the RIFLE categories. The loss and end-stage renal dis -\\nease categories are removed from staging and considered \\noutcomes (Table 1-1).\\nKDIGO Guidelines\\nIn 2012, the KDIGO clinical practice guidelines defined AKI \\nas an SCr increase of 0.3 mg/dL within 48 hours or a 50% \\nincrease in SCr within the previous 7 days (KDIGO 2012). The \\nstaging system was maintained the same as AKIN; however, \\na GFR of less than 35 mL/minute/1.73 m2 was added for pedi -\\natric patients as a criterion for stage 3 AKI.\\nBiomarkers\\nSerum creatinine is a well-recognized marker of kidney func -\\ntion and not a sensitive kidney injury marker, given that it may \\nlag 48–72 hours from the time of injury. Kidney injury bio -\\nmarkers are needed to improve AKI detection and will likely \\nreplace SCr in the definition and staging of AKI. Kidney dam -\\nage biomarkers, including kidney injury molecule-1 (KIM-1), \\nneutrophil gelatinase-associated lipocalin (NGAL), interleukin \\n(IL)-18, liver-type fatty acid binding protein (L-FABP), insu -\\nlin-like growth factor binding protein 7 (IGFBP-7), and tissue BASELINE KNOWLEDGE STATEMENTS \\nReaders of this chapter are presumed to be familiar \\nwith the following:\\n• General knowledge of the pathophysiology that \\nleads to acute kidney injury\\n• Kidney Disease Outcome Quality Initiative criteria\\n• CKD stages\\n• Estimate and measure CrCl and GFR\\n• General knowledge of renal replacement therapy\\nTable of common laboratory reference values.\\nADDITIONAL READINGS \\nThe following free resources have additional back -\\nground information on this topic:\\n• Kidney Disease Improving Global Outcomes \\n(KDIGO). Clinical Practice Guideline for Acute \\nKidney Injury . Kidney Int Suppl 2012;2:1-138.\\n• Medscape. Acute Kidney Injury . 2017 [homepage \\non the Internet]Table 1-1.  Comparison of RIFLE and AKIN Criteria for AKI Definition\\nRIFLE AKIN RIFLE/AKIN\\nCategory  SCr or ↓ GFR Stage Increase in SCr Urinary Output Change\\nRisk 1.5-fold ↑ SCr or 25% ↓ GFR 1 1.5- to 1.9-fold ↑ SCr or ↑ SCr \\n≥ 0.3 mg/dL< 0.5 mL/kg/hr for 6–12 hr\\nInjury 2-fold ↑ SCr or 50% ↓ GFR 2 2- to 2.9-fold ↑ SCr < 0.5 mL/kg/hr for ≥ 12 hr\\nFailure 3-fold ↑ SCr or SCr > 4 mg/dL  \\nwith acute risk > 0.5 mg/dL \\nor 75% ↓ GFR3 3-fold SCr or SCr > 4 mg/dL \\nwith acute risk > 0.5 mg/dL \\nor RRT< 0.3 mL/kg/hr for ≥ 24 hr or \\nanuria for ≥ 12 hr\\nAKI = acute kidney injury; RRT = renal replacement therapy.\\nInformation from: Kidney Disease: Improving Global Outcomes (KDIGO) Acute Kidney Injury Work Group. KDIGO Clinical Practice \\nGuideline for Acute Kidney Injury. Kidney Int Suppl 2012;2:1-138.', metadata={'source': '..\\\\data\\\\aki.pdf', 'page': 1}))"
      ]
     },
     "execution_count": 5,
     "metadata": {},
     "output_type": "execute_result"
    }
   ],
   "source": [
    "extracted_data[0],extracted_data[1],"
   ]
  },
  {
   "cell_type": "code",
   "execution_count": 23,
   "metadata": {},
   "outputs": [
    {
     "data": {
      "text/plain": [
       "({'source': '..\\\\data\\\\aki.pdf', 'page': 2},\n",
       " {'source': '..\\\\data\\\\Kidney-book-in-English.pdf', 'page': 180})"
      ]
     },
     "execution_count": 23,
     "metadata": {},
     "output_type": "execute_result"
    }
   ],
   "source": [
    "extracted_data[2].metadata,extracted_data[200].metadata"
   ]
  },
  {
   "cell_type": "code",
   "execution_count": 25,
   "metadata": {},
   "outputs": [
    {
     "data": {
      "text/plain": [
       "({'source': '..\\\\data\\\\Kidney-book-in-English.pdf', 'page': 180},\n",
       " 'contrast agents, maintaining adequate hydration with IV fluids, and\\nadministratio n of sodium bicarbonate and acetylcysteine.\\n4.Other drugs\\nOther common drugs that can damage kidneys are certain antibiotics,\\nanticancer therapy , antituberculosis drugs etc.\\n5.Other medicines\\n•The popular belief that all natural medicines (Aurvedic medicines,\\nChinese herbs etc.) and dietary supplements are harmless is wrong.\\n•Certain medicines of these groups contain heavy metals and toxic\\nsubstances which can cause damage to the kidney .\\n•Use of certain medicines of these groups can be dangerous in patients\\nwith kidney failure.\\n•Certain drugs with high potassium content can be lethal in kidney\\nfailure.\\nIt is a wrong belief that all natural medicines\\nare always safe for the kidney .CHP. 21.   Kidney and Drugs 161.\\nFree!!! 200+ Paged Kidney Book in 35+ Languages \\n      Visit: www.KidneyEducation.com')"
      ]
     },
     "execution_count": 25,
     "metadata": {},
     "output_type": "execute_result"
    }
   ],
   "source": [
    "extracted_data[200].metadata,extracted_data[200].page_content"
   ]
  },
  {
   "cell_type": "code",
   "execution_count": 26,
   "metadata": {},
   "outputs": [],
   "source": [
    "#Create text chunks\n",
    "def text_split(extracted_data):\n",
    "    text_splitter = RecursiveCharacterTextSplitter(chunk_size = 500, chunk_overlap = 20)\n",
    "    text_chunks = text_splitter.split_documents(extracted_data)\n",
    "\n",
    "    return text_chunks"
   ]
  },
  {
   "cell_type": "code",
   "execution_count": 27,
   "metadata": {},
   "outputs": [
    {
     "name": "stdout",
     "output_type": "stream",
     "text": [
      "length of my chunk: 1109\n"
     ]
    }
   ],
   "source": [
    "text_chunks = text_split(extracted_data)\n",
    "print(\"length of my chunk:\", len(text_chunks))"
   ]
  },
  {
   "cell_type": "code",
   "execution_count": 28,
   "metadata": {},
   "outputs": [],
   "source": [
    "#download embedding model\n",
    "def download_hugging_face_embeddings():\n",
    "    embeddings = HuggingFaceEmbeddings(model_name=\"sentence-transformers/all-MiniLM-L6-v2\")\n",
    "    return embeddings"
   ]
  },
  {
   "cell_type": "code",
   "execution_count": 29,
   "metadata": {},
   "outputs": [],
   "source": [
    "embeddings = download_hugging_face_embeddings()"
   ]
  },
  {
   "cell_type": "code",
   "execution_count": 30,
   "metadata": {},
   "outputs": [
    {
     "name": "stdout",
     "output_type": "stream",
     "text": [
      "Length 384\n"
     ]
    }
   ],
   "source": [
    "query_emb = embeddings.embed_query(\"write  table of contents of this book with name of book\")\n",
    "print(\"Length\", len(query_emb))"
   ]
  },
  {
   "cell_type": "code",
   "execution_count": 31,
   "metadata": {},
   "outputs": [
    {
     "data": {
      "text/plain": [
       "Document(page_content='CCSAP 2017  Book 2   •  Renal/Pulmonary Critical Care 7 Acute Kidney InjuryAcute Kidney Injury\\nBy Linda Awdishu, Pharm.D., MAS; and Sheryl E. Wu, Pharm.D., BCPS\\nINTRODUCTION\\nAcute kidney injury (AKI) results in the abrupt loss of kidney function, \\nleading to the retention of waste products, electrolyte disturbances, \\nand volume status changes. The term AKI has replaced acute renal \\nfailure  because smaller changes in kidney function without overt fail -', metadata={'source': '..\\\\data\\\\aki.pdf', 'page': 0})"
      ]
     },
     "execution_count": 31,
     "metadata": {},
     "output_type": "execute_result"
    }
   ],
   "source": [
    "text_chunks[0]"
   ]
  },
  {
   "cell_type": "code",
   "execution_count": 32,
   "metadata": {},
   "outputs": [],
   "source": [
    "#Initializing the Pinecone\n",
    "pinecone.init(api_key=PINECONE_API_KEY,\n",
    "              environment=PINECONE_API_ENV)\n",
    "\n",
    "index_name=\"mchatbot\"\n",
    "\n",
    "# #Creating Embeddings for Each of The Text Chunks & storing in pinecone vector store database\n",
    "docsearch=Pinecone.from_texts([t.page_content for t in text_chunks], embeddings, index_name=index_name)"
   ]
  },
  {
   "cell_type": "code",
   "execution_count": 34,
   "metadata": {},
   "outputs": [
    {
     "name": "stdout",
     "output_type": "stream",
     "text": [
      "Result page_content='How to use the book?\\nThis book is into two parts\\nPart 1:\\nBasic details about kidney and prevention of kidney diseases are\\nnarrated. Each and every individual is advised to read this part of the\\nbook. The information provided can make a difference, as it prepares\\na lay man for early detection and prevention of kidney diseases.\\nPart 2:\\nOne can read this part as per one’ s curiosity and necessity .\\n•Information about major kidney diseases, and its symptoms,'\n"
     ]
    }
   ],
   "source": [
    "#If we already have an index we can load it like this\n",
    "docsearch=Pinecone.from_existing_index(index_name, embeddings)\n",
    "\n",
    "query = \"write all the table of contents of this book\"\n",
    "\n",
    "docs=docsearch.similarity_search(query, k=3)\n",
    "\n",
    "print(\"Result\", docs[0])\n"
   ]
  },
  {
   "cell_type": "code",
   "execution_count": 35,
   "metadata": {},
   "outputs": [
    {
     "name": "stdout",
     "output_type": "stream",
     "text": [
      "Result:  \n",
      " How to use the book?\n",
      "This book is into two parts\n",
      "Part 1:\n",
      "Basic details about kidney and prevention of kidney diseases are\n",
      "narrated. Each and every individual is advised to read this part of the\n",
      "book. The information provided can make a difference, as it prepares\n",
      "a lay man for early detection and prevention of kidney diseases.\n",
      "Part 2:\n",
      "One can read this part as per one’ s curiosity and necessity .\n",
      "•Information about major kidney diseases, and its symptoms,\n"
     ]
    }
   ],
   "source": [
    "print(\"Result:  \\n\", docs[0].page_content)"
   ]
  },
  {
   "cell_type": "code",
   "execution_count": 36,
   "metadata": {},
   "outputs": [
    {
     "name": "stdout",
     "output_type": "stream",
     "text": [
      "10\n",
      "How to use the book?\n",
      "This book is into two parts\n",
      "Part 1:\n",
      "Basic details about kidney and prevention of kidney diseases are\n",
      "narrated. Each and every individual is advised to read this part of the\n",
      "book. The information provided can make a difference, as it prepares\n",
      "a lay man for early detection and prevention of kidney diseases.\n",
      "Part 2:\n",
      "One can read this part as per one’ s curiosity and necessity .\n",
      "•Information about major kidney diseases, and its symptoms,\n"
     ]
    }
   ],
   "source": [
    "toc=str(docs[0].page_content).split('\\n')\n",
    "print(len(toc))\n",
    "for i in range(len(toc)):\n",
    "    print(toc[i])"
   ]
  },
  {
   "cell_type": "code",
   "execution_count": 37,
   "metadata": {},
   "outputs": [
    {
     "data": {
      "text/plain": [
       "('Part 2:',\n",
       " 'narrated. Each and every individual is advised to read this part of the')"
      ]
     },
     "execution_count": 37,
     "metadata": {},
     "output_type": "execute_result"
    }
   ],
   "source": [
    "toc[7],toc[4]"
   ]
  },
  {
   "cell_type": "code",
   "execution_count": 38,
   "metadata": {},
   "outputs": [
    {
     "name": "stdout",
     "output_type": "stream",
     "text": [
      "Result This book is dedicated to all patients with\n",
      "kidney disease and their families.\n"
     ]
    }
   ],
   "source": [
    "query = \"who is the author of this book\"\n",
    "docs=docsearch.similarity_search(query, k=3)\n",
    "\n",
    "print(\"Result\", docs[0].page_content)"
   ]
  },
  {
   "cell_type": "code",
   "execution_count": 39,
   "metadata": {},
   "outputs": [
    {
     "data": {
      "text/plain": [
       "[Document(page_content='This book is dedicated to all patients with\\nkidney disease and their families.'),\n",
       " Document(page_content='How to use the book?\\nThis book is into two parts\\nPart 1:\\nBasic details about kidney and prevention of kidney diseases are\\nnarrated. Each and every individual is advised to read this part of the\\nbook. The information provided can make a difference, as it prepares\\na lay man for early detection and prevention of kidney diseases.\\nPart 2:\\nOne can read this part as per one’ s curiosity and necessity .\\n•Information about major kidney diseases, and its symptoms,'),\n",
       " Document(page_content='family but also to those at the risk of developing kidney disease.  And,\\nindeed, it will also be of educational importance for all those individuals\\nwho value awareness. Medical students, doctors, paramedicals are sure\\nto find this book a handy reference guide.\\nWe are thankful to Dr Gaurang and Dr . Susmita Dave,\\nMr. Ayaazkhan Babi and Neha Babi for their valuable suggestions and\\nhelp to make this kidney guide easy to read and very clear to understand.')]"
      ]
     },
     "execution_count": 39,
     "metadata": {},
     "output_type": "execute_result"
    }
   ],
   "source": [
    "docs"
   ]
  },
  {
   "cell_type": "markdown",
   "metadata": {},
   "source": [
    "## Llama2 model usage for chat"
   ]
  },
  {
   "cell_type": "code",
   "execution_count": 40,
   "metadata": {},
   "outputs": [],
   "source": [
    "prompt_template=\"\"\"\n",
    "you are a powerful assistant expert in kidney desease .\n",
    "Use the following pieces of information to answer the user's question.\n",
    "If you don't know the answer, just say that you don't know, don't try to make up an answer.\n",
    "\n",
    "Context: {context}\n",
    "Question: {question}\n",
    "\n",
    "Only return the helpful answer below and nothing else.\n",
    "Helpful answer:\"\"\""
   ]
  },
  {
   "cell_type": "code",
   "execution_count": 41,
   "metadata": {},
   "outputs": [],
   "source": [
    "PROMPT=PromptTemplate(template=prompt_template, input_variables=[\"context\", \"question\"])\n",
    "chain_type_kwargs={\"prompt\": PROMPT}"
   ]
  },
  {
   "cell_type": "code",
   "execution_count": 42,
   "metadata": {},
   "outputs": [],
   "source": [
    "llm=CTransformers(model=\"../Model/llama-2-7b-chat.ggmlv3.q4_0.bin\",\n",
    "                  model_type=\"llama\",\n",
    "                  config={'max_new_tokens':512,\n",
    "                          'temperature':0.8})"
   ]
  },
  {
   "cell_type": "code",
   "execution_count": 43,
   "metadata": {},
   "outputs": [],
   "source": [
    "qa=RetrievalQA.from_chain_type(\n",
    "    llm=llm, \n",
    "    chain_type=\"stuff\", \n",
    "    retriever=docsearch.as_retriever(search_kwargs={'k': 2}),\n",
    "    return_source_documents=True, \n",
    "    chain_type_kwargs=chain_type_kwargs)"
   ]
  },
  {
   "cell_type": "code",
   "execution_count": 44,
   "metadata": {},
   "outputs": [
    {
     "name": "stdout",
     "output_type": "stream",
     "text": [
      "Response :  \n",
      "Acute kidney injury (AKI) is a condition where there is a sudden loss of kidney function, leading to the retention of waste products, electrolyte disturbances, and volume status changes. It can be caused by various factors such as reduced blood supply to the kidneys due to dehydration, blood loss, burns, or fall in blood pressure. AKI is usually temporary and reversible, but it can lead to chronic kidney disease if not treated promptly.\n"
     ]
    }
   ],
   "source": [
    "user_input=\"What is acute kidney injury\"\n",
    "result=qa({\"query\": user_input})\n",
    "print(\"Response : \", result[\"result\"])"
   ]
  },
  {
   "cell_type": "code",
   "execution_count": null,
   "metadata": {},
   "outputs": [
    {
     "data": {
      "text/plain": [
       "{'query': 'What is acute kidney injury',\n",
       " 'result': ' Acute kidney injury (AKI) results in the abrupt loss of kidney function, leading to the retention of waste products, electrolyte disturbances, and volume status changes.',\n",
       " 'source_documents': [Document(page_content='CCSAP 2017  Book 2   •  Renal/Pulmonary Critical Care 7 Acute Kidney InjuryAcute Kidney Injury\\nBy Linda Awdishu, Pharm.D., MAS; and Sheryl E. Wu, Pharm.D., BCPS\\nINTRODUCTION\\nAcute kidney injury (AKI) results in the abrupt loss of kidney function, \\nleading to the retention of waste products, electrolyte disturbances, \\nand volume status changes. The term AKI has replaced acute renal \\nfailure  because smaller changes in kidney function without overt fail -'),\n",
       "  Document(page_content='CONCLUSION\\nAcute kidney injury can be caused by several conditions and \\nshould be considered a syndrome rather than an injury alone \\nbecause of the many complications and effects on other \\norgans. Pharmacists are uniquely positioned because of their \\nknowledge base to improve AKI outcomes by identifying and \\navoiding nephrotoxins, optimizing medication therapy during \\nan AKI episode, and accurately estimating kidney function')]}"
      ]
     },
     "execution_count": 28,
     "metadata": {},
     "output_type": "execute_result"
    }
   ],
   "source": [
    "result"
   ]
  },
  {
   "cell_type": "code",
   "execution_count": null,
   "metadata": {},
   "outputs": [],
   "source": [
    "# while True:\n",
    "#     user_input=input(f\"Input Prompt:\")\n",
    "#     result=qa({\"query\": user_input})\n",
    "#     print(\"Response : \", result[\"result\"])\n",
    "#     if user_input=='exit':\n",
    "#         break"
   ]
  }
 ],
 "metadata": {
  "kernelspec": {
   "display_name": "mchatbot",
   "language": "python",
   "name": "python3"
  },
  "language_info": {
   "codemirror_mode": {
    "name": "ipython",
    "version": 3
   },
   "file_extension": ".py",
   "mimetype": "text/x-python",
   "name": "python",
   "nbconvert_exporter": "python",
   "pygments_lexer": "ipython3",
   "version": "3.10.13"
  }
 },
 "nbformat": 4,
 "nbformat_minor": 2
}
